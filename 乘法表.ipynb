{
  "nbformat": 4,
  "nbformat_minor": 0,
  "metadata": {
    "colab": {
      "provenance": [],
      "authorship_tag": "ABX9TyNdGTCTxR3RqrV2XLqFu1N7",
      "include_colab_link": true
    },
    "kernelspec": {
      "name": "python3",
      "display_name": "Python 3"
    },
    "language_info": {
      "name": "python"
    }
  },
  "cells": [
    {
      "cell_type": "markdown",
      "metadata": {
        "id": "view-in-github",
        "colab_type": "text"
      },
      "source": [
        "<a href=\"https://colab.research.google.com/github/Lamyliao/hello-world/blob/main/%E4%B9%98%E6%B3%95%E8%A1%A8.ipynb\" target=\"_parent\"><img src=\"https://colab.research.google.com/assets/colab-badge.svg\" alt=\"Open In Colab\"/></a>"
      ]
    },
    {
      "cell_type": "code",
      "execution_count": null,
      "metadata": {
        "colab": {
          "base_uri": "https://localhost:8080/"
        },
        "id": "fjM-1NIZ9DYe",
        "outputId": "35d80338-13fd-4de3-82b5-935861863f8a"
      },
      "outputs": [
        {
          "output_type": "stream",
          "name": "stdout",
          "text": [
            "   1  2  3  4  5  6  7  8  9\n",
            "1  1  2  3  4  5  6  7  8  9\n",
            "2  2  4  6  8 10 12 14 16 18\n",
            "3  3  6  9 12 15 18 21 24 27\n",
            "4  4  8 12 16 20 24 28 32 36\n",
            "5  5 10 15 20 25 30 35 40 45\n",
            "6  6 12 18 24 30 36 42 48 54\n",
            "7  7 14 21 28 35 42 49 56 63\n",
            "8  8 16 24 32 40 48 56 64 72\n",
            "9  9 18 27 36 45 54 63 72 81\n"
          ]
        }
      ],
      "source": [
        "print(\"   1  2  3  4  5  6  7  8  9\")\n",
        "for i in range(1,10):\n",
        "  s = str(i)\n",
        "  for j in range (1,10):\n",
        "    s=s + str(i*j).rjust(3)\n",
        "  print(s)"
      ]
    }
  ]
}