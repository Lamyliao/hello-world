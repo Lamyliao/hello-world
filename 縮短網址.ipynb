{
  "cells": [
    {
      "cell_type": "markdown",
      "metadata": {
        "id": "view-in-github",
        "colab_type": "text"
      },
      "source": [
        "<a href=\"https://colab.research.google.com/github/Lamyliao/hello-world/blob/main/%E7%B8%AE%E7%9F%AD%E7%B6%B2%E5%9D%80.ipynb\" target=\"_parent\"><img src=\"https://colab.research.google.com/assets/colab-badge.svg\" alt=\"Open In Colab\"/></a>"
      ]
    },
    {
      "cell_type": "code",
      "source": [
        "!pip install pyshorteners==1.0.1"
      ],
      "metadata": {
        "colab": {
          "base_uri": "https://localhost:8080/"
        },
        "id": "G4kLPOQelTKn",
        "outputId": "25e163b8-94cc-4208-f91c-7e9bbe42508f"
      },
      "id": "G4kLPOQelTKn",
      "execution_count": null,
      "outputs": [
        {
          "output_type": "stream",
          "name": "stdout",
          "text": [
            "Requirement already satisfied: pyshorteners==1.0.1 in /usr/local/lib/python3.12/dist-packages (1.0.1)\n",
            "Requirement already satisfied: requests in /usr/local/lib/python3.12/dist-packages (from pyshorteners==1.0.1) (2.32.4)\n",
            "Requirement already satisfied: charset_normalizer<4,>=2 in /usr/local/lib/python3.12/dist-packages (from requests->pyshorteners==1.0.1) (3.4.4)\n",
            "Requirement already satisfied: idna<4,>=2.5 in /usr/local/lib/python3.12/dist-packages (from requests->pyshorteners==1.0.1) (3.11)\n",
            "Requirement already satisfied: urllib3<3,>=1.21.1 in /usr/local/lib/python3.12/dist-packages (from requests->pyshorteners==1.0.1) (2.5.0)\n",
            "Requirement already satisfied: certifi>=2017.4.17 in /usr/local/lib/python3.12/dist-packages (from requests->pyshorteners==1.0.1) (2025.10.5)\n"
          ]
        }
      ]
    },
    {
      "cell_type": "code",
      "source": [
        "import pyshorteners\n",
        "\n",
        "s = pyshorteners.Shortener()"
      ],
      "metadata": {
        "id": "IhUuZWEvlWL_"
      },
      "id": "IhUuZWEvlWL_",
      "execution_count": 16,
      "outputs": []
    },
    {
      "cell_type": "code",
      "source": [
        "short_url = s.tinyurl.short('https://www.youtube.com/watch?v=dQw4w9WgXcQ&list=RDdQw4w9WgXcQ&start_radio=1')\n",
        "print(short_url)"
      ],
      "metadata": {
        "id": "9Ga8wJ06lX7h",
        "colab": {
          "base_uri": "https://localhost:8080/"
        },
        "outputId": "5f1c2038-6491-472e-f401-f1d699215442"
      },
      "id": "9Ga8wJ06lX7h",
      "execution_count": 20,
      "outputs": [
        {
          "output_type": "stream",
          "name": "stdout",
          "text": [
            "https://tinyurl.com/yas9mvkb\n"
          ]
        }
      ]
    }
  ],
  "metadata": {
    "colab": {
      "provenance": [],
      "include_colab_link": true
    },
    "language_info": {
      "name": "python"
    },
    "kernelspec": {
      "name": "python3",
      "display_name": "Python 3"
    }
  },
  "nbformat": 4,
  "nbformat_minor": 5
}