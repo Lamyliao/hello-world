{
  "nbformat": 4,
  "nbformat_minor": 0,
  "metadata": {
    "colab": {
      "provenance": [],
      "authorship_tag": "ABX9TyM90Bl8v3TZCFrFYBW8XBvY",
      "include_colab_link": true
    },
    "kernelspec": {
      "name": "python3",
      "display_name": "Python 3"
    },
    "language_info": {
      "name": "python"
    }
  },
  "cells": [
    {
      "cell_type": "markdown",
      "metadata": {
        "id": "view-in-github",
        "colab_type": "text"
      },
      "source": [
        "<a href=\"https://colab.research.google.com/github/Lamyliao/hello-world/blob/main/%E6%89%BE%E5%9B%A0%E6%95%B8.ipynb\" target=\"_parent\"><img src=\"https://colab.research.google.com/assets/colab-badge.svg\" alt=\"Open In Colab\"/></a>"
      ]
    },
    {
      "cell_type": "code",
      "execution_count": 19,
      "metadata": {
        "id": "ubWBlYNJ8EKQ"
      },
      "outputs": [],
      "source": [
        "def find_factor(n):\n",
        "    \"\"\"\n",
        "    n: integer (整數)\n",
        "    return: list of factors of n (清單，n 的因數)\n",
        "    \"\"\"\n",
        "    factors = []\n",
        "    for i in range(1, n + 1):\n",
        "        if n % i == 0:\n",
        "            factors.append(i)\n",
        "    return factors"
      ]
    },
    {
      "cell_type": "code",
      "source": [
        "def find_multiple_factor(list):\n",
        "    \"\"\"\n",
        "    list: list of integers (整數清單)\n",
        "    return: list of factors of all integers in the list (清單中還有清單，所有整數的因數)\n",
        "    \"\"\"\n",
        "    # TODO\n",
        "    # Implement the function to find the factors of all integers in the list\n",
        "    # 回傳所有整數的因數\n",
        "    all_factors = []\n",
        "    for number in list:\n",
        "        factors = find_factor(number)\n",
        "        all_factors.append(factors)\n",
        "    return all_factors"
      ],
      "metadata": {
        "id": "Y2HxPBVVYlxI"
      },
      "execution_count": 28,
      "outputs": []
    },
    {
      "cell_type": "code",
      "source": [
        "def find_common_factor(x, y):\n",
        "    \"\"\"\n",
        "    x: integer (整數)\n",
        "    y: integer (整數)\n",
        "    return: list of common factors of x and y (清單，x 和 y 的共同因數)\n",
        "    \"\"\"\n",
        "    # TODO\n",
        "    # Implement the function to find the common factors of x and y\n",
        "    # 回傳 x 和 y 的共同因數\n",
        "    factors_x = find_factor(x)\n",
        "    factors_y = find_factor(y)\n",
        "    common_factors = []\n",
        "    for factor in factors_x:\n",
        "        if factor in factors_y:\n",
        "            common_factors.append(factor)\n",
        "    return common_factors"
      ],
      "metadata": {
        "id": "ov8ypF_SYn4O"
      },
      "execution_count": 32,
      "outputs": []
    },
    {
      "cell_type": "code",
      "source": [
        "factors = find_factor(12)\n",
        "print(factors)#回傳因數"
      ],
      "metadata": {
        "colab": {
          "base_uri": "https://localhost:8080/"
        },
        "id": "nVPSpNWvYppQ",
        "outputId": "23f54a56-cf08-4364-9511-aed53d7c7b2f"
      },
      "execution_count": 23,
      "outputs": [
        {
          "output_type": "stream",
          "name": "stdout",
          "text": [
            "[1, 2, 3, 4, 6, 12]\n"
          ]
        }
      ]
    },
    {
      "cell_type": "code",
      "source": [
        "all_factors = find_multiple_factor([12, 19])\n",
        "print(all_factors)#所有整數的因數"
      ],
      "metadata": {
        "colab": {
          "base_uri": "https://localhost:8080/"
        },
        "id": "0uyoEa25ZhCb",
        "outputId": "4653ee0f-0bc5-421d-f2f6-3beb3a538654"
      },
      "execution_count": 30,
      "outputs": [
        {
          "output_type": "stream",
          "name": "stdout",
          "text": [
            "[[1, 2, 3, 4, 6, 12], [1, 19]]\n"
          ]
        }
      ]
    },
    {
      "cell_type": "code",
      "source": [
        "common_factors = find_common_factor(12, 15)\n",
        "print(common_factors) #共同因數"
      ],
      "metadata": {
        "colab": {
          "base_uri": "https://localhost:8080/"
        },
        "id": "UImleP7wZ9_L",
        "outputId": "931c7eec-1576-4238-92d1-73fd7c1d0950"
      },
      "execution_count": 35,
      "outputs": [
        {
          "output_type": "stream",
          "name": "stdout",
          "text": [
            "[1, 3]\n"
          ]
        }
      ]
    }
  ]
}